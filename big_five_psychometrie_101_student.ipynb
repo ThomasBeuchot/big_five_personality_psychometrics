{
 "cells": [
  {
   "cell_type": "markdown",
   "id": "a5c1c92e-3fe3-4ea0-bd9a-6da86648923d",
   "metadata": {},
   "source": [
    "# Introduction à l'Analyse Psychométrique avec Python\n",
    "\n",
    "Ce notebook est conçu pour vous guider dans l'analyse psychométrique des données de personnalité basées sur le modèle du Big five (Extraversion, Ouverture à l'expérience, Agréabilité, Conscienciosité, Stabilité émotionnelle).\n",
    "\n",
    "Commençons par charger les données !"
   ]
  },
  {
   "cell_type": "code",
   "execution_count": null,
   "id": "9a548eab-013b-4ec4-b252-50b6e4548ce3",
   "metadata": {},
   "outputs": [],
   "source": [
    "# ============================================================\n",
    "# Section 1 : Chargement des Données\n",
    "# ============================================================\n",
    "\n",
    "# Importation des bibliothèques nécessaires\n",
    "# A effectuer sur votre terminal au préalable : pip install factor-analyzer ; pip install pingouin\n",
    "import pandas as pd\n",
    "from factor_analyzer import FactorAnalyzer\n",
    "import pingouin as pg\n",
    "\n",
    "# Chargement du fichier CSV (assurez-vous qu'il est dans le même dossier)\n",
    "data = pd.read_csv(\"data_big_five.csv\", sep='\\t')\n",
    "data.head()"
   ]
  },
  {
   "cell_type": "code",
   "execution_count": null,
   "id": "157be835-3131-47f7-8ea8-d22a0d1e24ae",
   "metadata": {},
   "outputs": [],
   "source": [
    "# ============================================================\n",
    "# Section 2 : Préparation des Données\n",
    "# ============================================================\n",
    "\n",
    "### Détails sur le dataset à analyser ###\n",
    "\n",
    "# Suppression de colonnes non utilisées\n",
    "\n",
    "# Aperçu rapide du dataset\n"
   ]
  },
  {
   "cell_type": "code",
   "execution_count": null,
   "id": "b355e407-4ea7-4433-ac3d-422d363c975d",
   "metadata": {},
   "outputs": [],
   "source": [
    "### Nettoyage des données ###\n",
    "\n",
    "# Remplacer les zéros par NA (valeurs manquantes)\n",
    "\n",
    "# Pour l'âge, remplacer les valeurs > 99 par NA\n",
    "\n",
    "# Vérification du nombre de valeurs manquantes\n",
    "\n",
    "# Détection et exclusion des réponses uniformes sur les questions\n"
   ]
  },
  {
   "cell_type": "code",
   "execution_count": null,
   "id": "a255d0b2-c9bb-49db-a37f-337bb5e41f9b",
   "metadata": {},
   "outputs": [],
   "source": [
    "# Potentielles visualisations des données\n"
   ]
  },
  {
   "cell_type": "markdown",
   "id": "1dbf5565-85a3-4cad-9129-77cfae58f174",
   "metadata": {},
   "source": [
    "# Les Trois Grands Critères Psychométriques\n",
    "\n",
    "Pour vérifier qu'un test est valable, il est essentiel de prendre en compte les trois grands critères :\n",
    "\n",
    "1. **La Validité** : Mesure si un outil évalue bien ce qu'il est censé mesurer.\n",
    "2. **La Fiabilité** : Indique la cohérence interne et la stabilité des résultats.\n",
    "3. **La Sensibilité** : Évalue la capacité de l'outil à détecter des variations fines entre les individus.\n",
    "\n",
    "Voici une décomposition de ces critères :\n",
    "![Les Trois Critères Psychométriques](criteres_psychometriques.png)"
   ]
  },
  {
   "cell_type": "markdown",
   "id": "87fcc3d8-dba8-437b-b37c-2aa259e403d9",
   "metadata": {},
   "source": [
    "# La consistance interne : Une dimension de la fiabilité\n",
    "La fiabilité est un des trois critères clés en psychométrie, et l'une de ses composantes essentielles est **la consistance interne**.\n",
    "\n",
    "### Qu'est-ce que ca consistance interne ?\n",
    "La consistance interne mesure à quel point les items (questions) d'un test sont cohérents entre eux. Elle permet de vérifier si toutes les questions évaluent bien le même construit. Si les réponses à des items évaluant une même dimension sont bien corrélées entre elles, cela suggère que les items évaluent bien un même trait.\n",
    "\n",
    "### Comment la mesurer ?\n",
    "L'outil principal pour mesurer la consistance interne est **l'alpha de Cronbach**. Un alpha supérieur à **0.7** est généralement considéré comme acceptable, mais cela peut dépendre du contexte. Essayons de calculer un alpha de Cronbach sur les dix questions évaluant l'extraversion, et voyons ce que donne !"
   ]
  },
  {
   "cell_type": "code",
   "execution_count": null,
   "id": "57603f4b-4d3c-4232-877b-c957ba448887",
   "metadata": {},
   "outputs": [],
   "source": [
    "# ============================================================\n",
    "# Section 3 : Fiabilité\n",
    "# Sous-section : Consistance Interne\n",
    "# ============================================================\n",
    "\n",
    "### Calcul de l'alpha de Cronbach pour l'extraversion ###\n",
    "\n",
    "# Colonnes d'extraversion\n",
    "\n",
    "# Fonction de calcul de l'alpha de Cronbach\n",
    "\n",
    "# Calcul initial\n",
    "\n",
    "# Interprétation simple\n",
    "if alpha_extraversion < 0.7:\n",
    "    print(\"L'alpha est faible. Nous devons vérifier les items inversés.\")\n",
    "else:\n",
    "    print(\"Alpha acceptable. Les items d'Extraversion sont cohérents.\")"
   ]
  },
  {
   "cell_type": "code",
   "execution_count": null,
   "id": "4fdb7cfa-9f5e-4fc1-b5da-a926600e0ec3",
   "metadata": {},
   "outputs": [],
   "source": [
    "### Correction des items inversés ###\n",
    "\n",
    "# Items à inverser pour l'Extraversion\n",
    "\n",
    "# Nouveau calcul\n",
    "\n",
    "# Stockage des résultats\n"
   ]
  },
  {
   "cell_type": "code",
   "execution_count": null,
   "id": "95e43f7f-10bc-47f2-8ce5-a157eba97b3e",
   "metadata": {},
   "outputs": [],
   "source": [
    "### Correction des items inversés et calcul de l'alpha pour les autres dimensions ###\n"
   ]
  },
  {
   "cell_type": "code",
   "execution_count": null,
   "id": "46f73ab4-d9a3-4dc4-860d-814975fbfb43",
   "metadata": {},
   "outputs": [],
   "source": [
    "### Récapitulatif des alphas de Cronbach ###\n"
   ]
  },
  {
   "cell_type": "markdown",
   "id": "2ccc6e0f-bbd9-43cf-bd81-098be57065ed",
   "metadata": {},
   "source": [
    "### Limites de l'alpha de Cronbach et l'importance de l'omega de McDonald\n",
    "L'alpha de Cronbach est un indicateur utile pour évaluer la consistance interne, mais il présente certaines limites:\n",
    "1. **Hypothèse de tau-équivalence :** L'alpha suppose que tous les items contribuent de manière égale au score total, ce qui est rarement le cas en pratique.\n",
    "2. **Sensibilité au nombre d'items :** L'alpha peut être artificiellement élevé si le nombre d'items est important.\n",
    "\n",
    "### L'omega de McDonald : une mesure alternative\n",
    "L'omega est une mesure plus robuste de la consistence interne, car il prend en compte des pondérations différentielles des items (modèle factoriel). Il ne repose pas sur l'hypothèse de tau-équivalence. On calcule \"l'omega total\" pour évaluer la consistance interne d'une dimension psychologique sans s'intéresser à ses sous-facteurs (on choisirait \"l'omega hiérarchique\" dans le cas contraire). Un omega supérieur à 0.7 est également considéré acceptable."
   ]
  },
  {
   "cell_type": "code",
   "execution_count": null,
   "id": "795ac139-9a91-49f2-8004-693c3ac9425e",
   "metadata": {},
   "outputs": [],
   "source": [
    "# Définition des dimensions et des colonnes associées\n",
    "\n",
    "# Fonction de calcul de l'omega total pour un ensemble d'items\n",
    "\n",
    "# Calculer l'omega total pour chaque dimension et afficher les résultats\n",
    "\n",
    "# Créer un tableau récapitulatif des omegas\n"
   ]
  },
  {
   "cell_type": "markdown",
   "id": "f3837065-71f7-4d14-813d-dd97f7d2cdd4",
   "metadata": {},
   "source": [
    "# Fiabilité test-retest\n",
    "Les données de ce dataset ne sont pas longitudinales, cette caractéristique ne peut donc pas être évaluée."
   ]
  }
 ],
 "metadata": {
  "kernelspec": {
   "display_name": "Python 3 (ipykernel)",
   "language": "python",
   "name": "python3"
  },
  "language_info": {
   "codemirror_mode": {
    "name": "ipython",
    "version": 3
   },
   "file_extension": ".py",
   "mimetype": "text/x-python",
   "name": "python",
   "nbconvert_exporter": "python",
   "pygments_lexer": "ipython3",
   "version": "3.12.4"
  }
 },
 "nbformat": 4,
 "nbformat_minor": 5
}
