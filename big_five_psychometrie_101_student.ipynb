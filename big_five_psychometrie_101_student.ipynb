{
 "cells": [
  {
   "cell_type": "markdown",
   "id": "a5c1c92e-3fe3-4ea0-bd9a-6da86648923d",
   "metadata": {},
   "source": [
    "# Introduction à l'Analyse Psychométrique avec Python\n",
    "\n",
    "Ce notebook est conçu pour vous guider dans l'analyse psychométrique des données de personnalité basées sur le modèle du Big five (Extraversion, Ouverture à l'expérience, Agréabilité, Conscienciosité, Stabilité émotionnelle).\n",
    "\n",
    "Commençons par charger les données !"
   ]
  },
  {
   "cell_type": "code",
   "execution_count": null,
   "id": "9a548eab-013b-4ec4-b252-50b6e4548ce3",
   "metadata": {},
   "outputs": [],
   "source": [
    "# ============================================================\n",
    "# Section 1 : Chargement des Données\n",
    "# ============================================================\n",
    "\n",
    "# Importation des bibliothèques nécessaires\n",
    "# A effectuer sur votre terminal au préalable : pip install factor-analyzer ; pip install pingouin\n",
    "import pandas as pd\n",
    "from factor_analyzer import FactorAnalyzer\n",
    "import pingouin as pg\n",
    "\n",
    "# Chargement du fichier CSV (assurez-vous qu'il est dans le même dossier)\n",
    "data = pd.read_csv(\"data_big_five.csv\", sep='\\t')\n",
    "data.head()"
   ]
  },
  {
   "cell_type": "code",
   "execution_count": null,
   "id": "157be835-3131-47f7-8ea8-d22a0d1e24ae",
   "metadata": {},
   "outputs": [],
   "source": [
    "# ============================================================\n",
    "# Section 2 : Préparation des Données\n",
    "# ============================================================\n",
    "\n",
    "### Détails sur le dataset à analyser ###\n",
    "\n",
    "# Suppression de colonnes non utilisées\n",
    "\n",
    "# Aperçu rapide du dataset\n"
   ]
  },
  {
   "cell_type": "code",
   "execution_count": null,
   "id": "b355e407-4ea7-4433-ac3d-422d363c975d",
   "metadata": {},
   "outputs": [],
   "source": [
    "### Nettoyage des données ###\n",
    "\n",
    "# Remplacer les zéros par NA (valeurs manquantes)\n",
    "\n",
    "# Pour l'âge, remplacer les valeurs > 99 par NA\n",
    "\n",
    "# Vérification du nombre de valeurs manquantes\n",
    "\n",
    "# Détection et exclusion des réponses uniformes sur les questions\n"
   ]
  },
  {
   "cell_type": "code",
   "execution_count": null,
   "id": "a255d0b2-c9bb-49db-a37f-337bb5e41f9b",
   "metadata": {},
   "outputs": [],
   "source": [
    "# Potentielles visualisations des données\n"
   ]
  },
  {
   "cell_type": "markdown",
   "id": "1dbf5565-85a3-4cad-9129-77cfae58f174",
   "metadata": {},
   "source": [
    "# Les Trois Grands Critères Psychométriques\n",
    "\n",
    "Pour vérifier qu'un test est valable, il est essentiel de prendre en compte les trois grands critères :\n",
    "\n",
    "1. **La Validité** : Mesure si un outil évalue bien ce qu'il est censé mesurer.\n",
    "2. **La Fiabilité** : Indique la cohérence interne et la stabilité des résultats.\n",
    "3. **La Sensibilité** : Évalue la capacité de l'outil à détecter des variations fines entre les individus.\n",
    "\n",
    "Voici une décomposition de ces critères :\n",
    "![Les Trois Critères Psychométriques](criteres_psychometriques.png)"
   ]
  },
  {
   "cell_type": "markdown",
   "id": "87fcc3d8-dba8-437b-b37c-2aa259e403d9",
   "metadata": {},
   "source": [
    "# La consistance interne : Une dimension de la fiabilité\n",
    "\n",
    "La fiabilité est un des trois critères clés en psychométrie, et l'une de ses composantes essentielles est **la consistance interne**.\n",
    "\n",
    "### Qu'est-ce que la consistance interne ?\n",
    "La consistance interne mesure à quel point les items (questions) d'un test sont cohérents entre eux. Elle permet de vérifier si toutes les questions évaluent bien le même construit. Si les réponses à des items évaluant une même dimension sont bien corrélées entre elles, cela suggère que les items évaluent bien un même trait.\n",
    "\n",
    "### Comment la mesurer ?\n",
    "L'outil principal pour mesurer la consistance interne est **l'alpha de Cronbach**. Un alpha supérieur à **0.7** est généralement considéré comme acceptable, bien que ce seuil puisse varier selon les contextes.\n",
    "\n",
    "### Formule de l'alpha de Cronbach\n",
    "Imaginons que nous ayons un ensemble de *k* items. Pour chaque item, nous pouvons calculer sa variance (c'est-à-dire dans quelle mesure les réponses varient). Nous pouvons également calculer la variance du score total (la somme des scores de tous les items) pour chaque individu et ensuite la variance globale de ces scores totaux dans l'échantillon.\n",
    "\n",
    "L'alpha de Cronbach se calcule selon la formule suivante :$$\n",
    "\\alpha = \\frac{k}{k-1} \\left( 1 - \\frac{\\sum_{i=1}^{k} \\sigma_{i}^{2}}{\\sigma_{\\text{total}}^{2}} \\right)\n",
    "$$\n",
    "\n",
    "- $k$ est le nombre d'items.\n",
    "- $\\sigma_{i}^{2}$ est la variance du *i*-ème item.\n",
    "- $\\sigma_{\\text{total}}^{2}$ est la variance du score total (somme des $k$ items).\n",
    "\n",
    "Cette formule montre qu’un alpha élevé est obtenu lorsque la somme des variances des items est petite par rapport à la variance totale du score combiné. Plus les items \"vont dans le même sens\" (corrèlent entre eux), plus l’alpha augmente."
   ]
  },
  {
   "cell_type": "code",
   "execution_count": null,
   "id": "57603f4b-4d3c-4232-877b-c957ba448887",
   "metadata": {},
   "outputs": [],
   "source": [
    "# ============================================================\n",
    "# Section 3 : Fiabilité\n",
    "# Sous-section : Consistance Interne\n",
    "# ============================================================\n",
    "\n",
    "### Calcul de l'alpha de Cronbach pour l'extraversion ###\n",
    "\n",
    "# Colonnes d'extraversion\n",
    "\n",
    "# Fonction de calcul de l'alpha de Cronbach\n",
    "\n",
    "# Calcul initial\n",
    "\n",
    "# Interprétation simple\n",
    "if alpha_extraversion < 0.7:\n",
    "    print(\"L'alpha est faible. Nous devons vérifier les items inversés.\")\n",
    "else:\n",
    "    print(\"Alpha acceptable. Les items d'Extraversion sont cohérents.\")"
   ]
  },
  {
   "cell_type": "code",
   "execution_count": null,
   "id": "4fdb7cfa-9f5e-4fc1-b5da-a926600e0ec3",
   "metadata": {},
   "outputs": [],
   "source": [
    "### Correction des items inversés ###\n",
    "\n",
    "# Items à inverser pour l'Extraversion\n",
    "\n",
    "# Nouveau calcul\n",
    "\n",
    "# Stockage des résultats\n"
   ]
  },
  {
   "cell_type": "code",
   "execution_count": null,
   "id": "95e43f7f-10bc-47f2-8ce5-a157eba97b3e",
   "metadata": {},
   "outputs": [],
   "source": [
    "### Correction des items inversés et calcul de l'alpha pour les autres dimensions ###\n"
   ]
  },
  {
   "cell_type": "code",
   "execution_count": null,
   "id": "46f73ab4-d9a3-4dc4-860d-814975fbfb43",
   "metadata": {},
   "outputs": [],
   "source": [
    "### Récapitulatif des alphas de Cronbach ###\n"
   ]
  },
  {
   "cell_type": "markdown",
   "id": "2ccc6e0f-bbd9-43cf-bd81-098be57065ed",
   "metadata": {},
   "source": [
    "### Limites de l'alpha de Cronbach et l'importance de l'omega de McDonald\n",
    "L'alpha de Cronbach est un indicateur utile pour évaluer la consistance interne, mais il présente certaines limites:\n",
    "1. **Hypothèse de tau-équivalence :** L'alpha suppose que tous les items contribuent de manière égale au score total, ce qui est rarement le cas en pratique.\n",
    "2. **Sensibilité au nombre d'items :** L'alpha peut être artificiellement élevé si le nombre d'items est important.\n",
    "\n",
    "### L'omega de McDonald : une mesure alternative\n",
    "L'omega est une mesure plus robuste de la consistence interne, car il prend en compte des pondérations différentielles des items (modèle factoriel). Il ne repose pas sur l'hypothèse de tau-équivalence. On calcule \"l'omega total\" pour évaluer la consistance interne d'une dimension psychologique sans s'intéresser à ses sous-facteurs (on choisirait \"l'omega hiérarchique\" dans le cas contraire). Un omega supérieur à 0.7 est également considéré acceptable.\n",
    "\n",
    "### Formule de l'omega total\n",
    "\n",
    "L'omega total se calcule à partir des loadings factoriels (λ) issus d'une analyse factorielle à un seul facteur. Supposons que nous ayons *k* items, et pour chacun un loading λ<sub>i</sub> sur ce facteur. On définit :\n",
    "\n",
    "- La somme des loadings : \\\\( \\sum_{i=1}^{k} \\lambda_i \\\\)\n",
    "- La somme des loadings au carré : \\\\( \\sum_{i=1}^{k} \\lambda_i^2 \\\\)\n",
    "\n",
    "Alors, l'omega total se calcule comme suit :\n",
    "\n",
    "$$\n",
    "\\omega_{\\text{total}} = \\frac{\\left(\\sum_{i=1}^{k} \\lambda_i\\right)^2}{\\left(\\sum_{i=1}^{k} \\lambda_i\\right)^2 + k - \\sum_{i=1}^{k} \\lambda_i^{2}}\n",
    "$$\n",
    "\n",
    "Dans cette formule, \\(k\\) est le nombre d'items. Les loadings (λ) reflètent la contribution de chaque item au facteur commun. L'omega total prend ainsi en compte la structure factorielle de l'échelle, contrairement à l'alpha de Cronbach, et ne suppose pas que tous les items contribuent également au construit mesuré."
   ]
  },
  {
   "cell_type": "code",
   "execution_count": null,
   "id": "795ac139-9a91-49f2-8004-693c3ac9425e",
   "metadata": {},
   "outputs": [],
   "source": [
    "# Définition des dimensions et des colonnes associées\n",
    "\n",
    "# Fonction de calcul de l'omega total pour un ensemble d'items\n",
    "\n",
    "# Calculer l'omega total pour chaque dimension et afficher les résultats\n",
    "\n",
    "# Créer un tableau récapitulatif des omegas\n"
   ]
  },
  {
   "cell_type": "markdown",
   "id": "f3837065-71f7-4d14-813d-dd97f7d2cdd4",
   "metadata": {},
   "source": [
    "# Fiabilité test-retest\n",
    "Les données de ce dataset ne sont pas longitudinales, cette caractéristique ne peut donc pas être évaluée."
   ]
  },
  {
   "cell_type": "markdown",
   "id": "1a74dc13-f691-4ab6-8a5b-aa43426d3d62",
   "metadata": {},
   "source": [
    "# La sensibilité\n",
    "\n",
    "La sensibilité d'un test psychométrique fait référence à sa capacité à distinguer des différences subtiles entre les individus.\n",
    "\n",
    "### Qu'est-ce que la sensibilité d'une mesure ?\n",
    "La sensibilité s’intéresse à la finesse de la mesure, c’est-à-dire sa capacité à différencier finement les individus. Un outil peu sensible aboutira à des scores très semblables pour la plupart des personnes, rendant difficile la mise en évidence de différences importantes, qu’il s’agisse de comparer différents groupes ou de suivre une progression dans le temps.\n",
    "\n",
    "### Comment évaluer la sensibilité ?\n",
    "Pour évaluer simplement la sensibilité, on peut examiner la variabilité des scores. Plus la variabilité est élevée, plus le test est susceptible de détecter des différences entre individus. Un indicateur simple est l’écart-type : un écart-type trop faible (tous les scores proches d’une valeur centrale) suggère une sensibilité limitée, alors qu’un écart-type plus élevé peut indiquer une mesure plus sensible. De plus, il est souvent utile de vérifier la distribution des données. De nombreux tests statistiques requièrent une distribution normale. Si les données sont fortement asymétriques ou aplaties, cela peut affecter l’interprétation de la sensibilité."
   ]
  },
  {
   "cell_type": "code",
   "execution_count": null,
   "id": "85e6edd1-d868-4494-be71-d239377bc4bc",
   "metadata": {},
   "outputs": [],
   "source": [
    "# Définition d'une fonction pour interpréter la sensibilité\n",
    "# Un écart-type supérieur à 0.5 est considéré moyen, et un écart-type supérieur à 0.8 est considéré marque d'une sensibilité élevée ici\n",
    "\n",
    "# Calcul et interprétation de la sensibilité de chaque dimension\n",
    "\n",
    "# Affichage des résultats\n"
   ]
  },
  {
   "cell_type": "code",
   "execution_count": null,
   "id": "52f9b91b-3d22-4be2-8435-e84cdd780c6d",
   "metadata": {},
   "outputs": [],
   "source": [
    "# Représentation graphique de la distribution des scores moyens comparée à une distribution normale théorique\n"
   ]
  },
  {
   "cell_type": "markdown",
   "id": "ac8401bc-c54d-4990-8502-d1d03b1f76e8",
   "metadata": {},
   "source": [
    "# Validité\n",
    "\n",
    "La validité d’une mesure indique dans quelle mesure cette mesure évalue réellement le construit qu’elle est censée mesurer. Elle reflète la justesse et la pertinence de l’outil de mesure par rapport à son objectif.\n",
    "\n",
    "### Validité critérielle\n",
    "\n",
    "La validité critérielle se réfère à la capacité d’une mesure à prédire ou être associée à des variables extérieures pertinentes, appelées critères. Un test de personnalité devrait, par exemple, présenter des liens cohérents avec des caractéristiques démographiques ou des comportements connus.\n",
    "\n",
    "Dans notre cas, nous pouvons évaluer la validité critérielle en examinant si les dimensions de personnalité sont associées à des variables comme le genre ou l’âge. Par exemple, puisque la littérature suggère que certains trait de personnalité varient avec l’âge ou présentent des différences moyennes entre les hommes et les femmes, notre test devrait refléter ces tendances. Plus nos résultats sont conformes aux relations attendues, plus la validité critérielle de notre mesure est robuste."
   ]
  },
  {
   "cell_type": "code",
   "execution_count": null,
   "id": "e1370878-a4ef-40f4-b54d-f9d390435e62",
   "metadata": {},
   "outputs": [],
   "source": [
    "# Calcul d'un score moyen par dimension\n",
    "\n",
    "# Conversion et nettoyage des variables âge et genre\n",
    "\n",
    "# Calcul des corrélations entre âge et scores de personnalité\n",
    "\n",
    "# T-tests entre genre et scores de personnalité\n"
   ]
  },
  {
   "cell_type": "markdown",
   "id": "65dcf8fa-4b47-4955-bbcb-84009f2a7a0f",
   "metadata": {},
   "source": [
    "## Validité de construit\n",
    "\n",
    "La validité de construit concerne la capacité d'un test à mesurer réellement le construit psychologique qu'il prétend évaluer. Pour un questionnaire de personnalité basé sur le Big Five, cela implique qu'une analyse factorielle effectuée sur les données devrait révéler une structure conforme aux cinq dimensions de personnalité attendues (Extraversion, Névrosisme, Agréabilité, Conscienciosité, Ouverture).\n",
    "\n",
    "En d'autres termes, si notre questionnaire est valide sur le plan du construit, les items censés mesurer une même dimension devraient fortement se regrouper ensemble sur un même facteur, tandis que ceux mesurant d'autres dimensions devraient se regrouper de manière distincte."
   ]
  },
  {
   "cell_type": "code",
   "execution_count": null,
   "id": "56d48f43-045b-46bb-9285-fcf136340c9b",
   "metadata": {},
   "outputs": [],
   "source": [
    "# Extraire tous les items du Big Five\n",
    "\n",
    "# Analyse factorielle exploratoire avec 5 facteurs\n"
   ]
  },
  {
   "cell_type": "markdown",
   "id": "5d521d3c-2f89-4e16-9337-4c3e6229d6e3",
   "metadata": {},
   "source": [
    "# Exemple d’application pratique\n",
    "\n",
    "Au-delà de l’analyse factorielle et de la consistance interne, imaginons une application concrète. Supposons que nous souhaitons, pour chaque individu de notre dataset, trouver l’autre individu dont le profil de personnalité est le plus similaire, son âme soeur. Nous pourrons pour ce faire calculer une mesure de distance (telle que la distance euclidienne) entre chaque paire d’individus sur la base de leurs scores moyens aux cinq dimensions du Big Five, puis déterminer l’individu le plus proche.\n",
    "\n",
    "Ensuite, pour faciliter la visualisation de ces relations, nous allons réaliser une Analyse en Composantes Principales (ACP, ou PCA en anglais) sur le tableau des scores de personnalité. La PCA permet de représenter nos individus dans un espace de dimension réduite (2D ici) tout en conservant le plus d’information possible. Sur ce graphique, il sera alors possible d’indiquer, pour chaque individu, l’individu qui lui est le plus similaire, par exemple en traçant une ligne reliant les deux points correspondants."
   ]
  },
  {
   "cell_type": "code",
   "execution_count": null,
   "id": "026555e5-823e-47c5-bb93-69dbfe732c75",
   "metadata": {},
   "outputs": [],
   "source": [
    "# Assigner un prénom à chaque individu\n"
   ]
  },
  {
   "cell_type": "code",
   "execution_count": null,
   "id": "3cf3d217-f3af-4fef-a48c-623a98824e87",
   "metadata": {},
   "outputs": [],
   "source": [
    "# Calcul du score moyen par dimension et détermination de l'âme sœur\n",
    "\n",
    "# Mettre la distance à soi-même à l'infini pour ne pas se choisir\n"
   ]
  },
  {
   "cell_type": "code",
   "execution_count": null,
   "id": "128fb40b-8b8f-4632-86c1-86beb0a97f90",
   "metadata": {},
   "outputs": [],
   "source": [
    "# Réaliser un PCA sur un sous-échantillon de 100 individus pour plus de lisibilité\n",
    "\n",
    "# Récupération des loadings pour interpréter les axes\n",
    "\n",
    "# Tracer le segment reliant chaque individu à son âme sœur si elle est dans l'échantillon\n",
    "\n",
    "# Ajouter les noms sur le graphique\n",
    "\n",
    "# Représentation graphique\n"
   ]
  }
 ],
 "metadata": {
  "kernelspec": {
   "display_name": "Python 3 (ipykernel)",
   "language": "python",
   "name": "python3"
  },
  "language_info": {
   "codemirror_mode": {
    "name": "ipython",
    "version": 3
   },
   "file_extension": ".py",
   "mimetype": "text/x-python",
   "name": "python",
   "nbconvert_exporter": "python",
   "pygments_lexer": "ipython3",
   "version": "3.12.4"
  }
 },
 "nbformat": 4,
 "nbformat_minor": 5
}
